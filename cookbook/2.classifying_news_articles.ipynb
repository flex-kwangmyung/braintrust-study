{
 "cells": [
  {
   "cell_type": "markdown",
   "id": "9ec550ca",
   "metadata": {},
   "source": [
    "## Braintrust classification tutorial\n",
    "\n",
    "- https://github.com/braintrustdata/braintrust-cookbook/blob/main/examples/ClassifyingNewsArticles/ClassifyingNewsArticles.ipynb"
   ]
  },
  {
   "cell_type": "markdown",
   "id": "c0446775",
   "metadata": {},
   "source": [
    "Classification is a core natural language processing (NLP) task that large language models are good at, but building reliable systems is still challenging. In this cookbook, we'll walk through how to improve an LLM-based classification system that sorts news articles by category."
   ]
  },
  {
   "cell_type": "code",
   "execution_count": 1,
   "id": "4be14c91",
   "metadata": {},
   "outputs": [
    {
     "data": {
      "text/plain": [
       "True"
      ]
     },
     "execution_count": 1,
     "metadata": {},
     "output_type": "execute_result"
    }
   ],
   "source": [
    "from json import load\n",
    "import os\n",
    "from dotenv import load_dotenv\n",
    "\n",
    "load_dotenv()"
   ]
  },
  {
   "cell_type": "markdown",
   "id": "b58eecf3",
   "metadata": {},
   "source": [
    "wip"
   ]
  },
  {
   "cell_type": "code",
   "execution_count": null,
   "id": "2d357fce",
   "metadata": {},
   "outputs": [],
   "source": []
  }
 ],
 "metadata": {
  "kernelspec": {
   "display_name": ".venv",
   "language": "python",
   "name": "python3"
  },
  "language_info": {
   "codemirror_mode": {
    "name": "ipython",
    "version": 3
   },
   "file_extension": ".py",
   "mimetype": "text/x-python",
   "name": "python",
   "nbconvert_exporter": "python",
   "pygments_lexer": "ipython3",
   "version": "3.12.9"
  }
 },
 "nbformat": 4,
 "nbformat_minor": 5
}
