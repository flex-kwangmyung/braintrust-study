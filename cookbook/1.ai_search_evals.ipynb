{
 "cells": [
  {
   "cell_type": "markdown",
   "id": "9ec550ca",
   "metadata": {},
   "source": [
    "## AI Search Evals\n",
    "\n",
    "- https://github.com/braintrustdata/braintrust-cookbook/blob/main/examples/AISearch/ai_search_evals.ipynb"
   ]
  },
  {
   "cell_type": "markdown",
   "id": "0ae90340",
   "metadata": {},
   "source": [
    " 가이드는 Braintrust의 평가 워크플로우를 활용하여 AI 기반 검색 바를 개발한 과정을 보여줍니다.   \n"
   ]
  },
  {
   "cell_type": "markdown",
   "id": "c0446775",
   "metadata": {},
   "source": [
    "- 특정 실험을 찾으려면 표준 SQL 구문을 사용하여 검색창에 필터 및 정렬 쿼리를 입력할 수 있음 \n",
    "- 하지만 SQL은 까다로울 수 있음. \n",
    "- 큰따옴표 대신 작은따옴표를 사용하거나, 잘못된 JSON 추출 구문, 오타와 같은 구문 오류가 쉽게 발생함. \n",
    "- 사용자는 직관적인 검색어(예: git 커밋 2a43fd1에서 실행된 실험 또는 점수 0.5 미만)를 입력하기만 하면 해당 SQL 쿼리가 자동으로 표시되기를 원할 것임. \n",
    "- Braintrust의 eval 프레임워크를 활용해 AI로 이를 구현해 보겠음.\n"
   ]
  },
  {
   "cell_type": "code",
   "execution_count": 1,
   "id": "4be14c91",
   "metadata": {},
   "outputs": [
    {
     "data": {
      "text/plain": [
       "True"
      ]
     },
     "execution_count": 1,
     "metadata": {},
     "output_type": "execute_result"
    }
   ],
   "source": [
    "from json import load\n",
    "import os\n",
    "from dotenv import load_dotenv\n",
    "\n",
    "load_dotenv()"
   ]
  },
  {
   "cell_type": "code",
   "execution_count": 2,
   "id": "b20aa32f",
   "metadata": {},
   "outputs": [],
   "source": [
    "import braintrust\n",
    "import openai"
   ]
  },
  {
   "cell_type": "code",
   "execution_count": 3,
   "id": "8ace4789",
   "metadata": {},
   "outputs": [],
   "source": [
    "PROJECT_NAME = \"AI Search Cookbook\"\n",
    "\n",
    "# We use the Braintrust proxy here to get access to caching, but this is totally optional!\n",
    "openai_opts = dict(\n",
    "    base_url=\"https://api.braintrust.dev/v1/proxy\",\n",
    "    api_key=os.environ.get(\"OPENAI_API_KEY\", \"YOUR_OPENAI_API_KEY\"),\n",
    ")\n",
    "client = braintrust.wrap_openai(openai.AsyncOpenAI(default_headers={\"x-bt-use-cache\": \"always\"}, **openai_opts))\n",
    "\n",
    "braintrust.login(api_key=os.environ.get(\"BRAINTRUST_API_KEY\", \"YOUR_BRAINTRUST_API_KEY\"))\n",
    "dataset = braintrust.init_dataset(PROJECT_NAME, \"AI Search Cookbook Data\", use_output=False)"
   ]
  },
  {
   "cell_type": "markdown",
   "id": "902c1660",
   "metadata": {},
   "source": [
    "### Load data and Render the templates"
   ]
  },
  {
   "cell_type": "markdown",
   "id": "5e9af15d",
   "metadata": {},
   "source": [
    "검색 쿼리를 GPT가 번역하도록 요청할 때는 여러 출력 옵션을 고려해야 합니다: \n",
    "(1) SQL 필터, (2) SQL 정렬, (3) 위 둘 다, (4) 번역 실패(예: 의미 없는 사용자 입력). \n",
    "각기 다른 시나리오를 견고하게 처리하기 위해 함수 호출(function calling)을 사용하며, 출력 형식은 다음과 같습니다:\n",
    "\n",
    "* **match**: 모델이 검색을 유효한 SQL 필터/정렬로 번역할 수 있었는지 여부.\n",
    "* **filter**: `WHERE` 절.\n",
    "* **sort**: `ORDER BY` 절.\n",
    "* **explanation**: 위 선택에 대한 설명 \n",
    "  \n",
    "이런 형태가 디버깅에 유용 \n"
   ]
  },
  {
   "cell_type": "code",
   "execution_count": 4,
   "id": "28af3576",
   "metadata": {},
   "outputs": [],
   "source": [
    "import dataclasses\n",
    "from typing import Literal, Optional, Union\n",
    "\n",
    "from pydantic import BaseModel, Field, create_model"
   ]
  },
  {
   "cell_type": "code",
   "execution_count": 5,
   "id": "f963d830",
   "metadata": {},
   "outputs": [],
   "source": [
    "@dataclasses.dataclass\n",
    "class FunctionCallOutput:\n",
    "    match: Optional[bool] = None\n",
    "    filter: Optional[str] = None\n",
    "    sort: Optional[str] = None\n",
    "    explanation: Optional[str] = None\n",
    "    error: Optional[str] = None"
   ]
  },
  {
   "cell_type": "code",
   "execution_count": 6,
   "id": "2a2d58dc",
   "metadata": {},
   "outputs": [],
   "source": [
    "class Match(BaseModel):\n",
    "    type: Literal[\"MATCH\"] = \"MATCH\"\n",
    "    explanation: str = Field(\n",
    "        ..., description=\"Explanation of why I called the MATCH function\"\n",
    "    )\n",
    "\n",
    "\n",
    "class SQL(BaseModel):\n",
    "    type: Literal[\"SQL\"] = \"SQL\"\n",
    "    filter: Optional[str] = Field(..., description=\"SQL filter clause\")\n",
    "    sort: Optional[str] = Field(..., description=\"SQL sort clause\")\n",
    "    explanation: str = Field(\n",
    "        ...,\n",
    "        description=\"Explanation of why I called the SQL function and how I chose the filter and/or sort clauses\",\n",
    "    )"
   ]
  },
  {
   "cell_type": "code",
   "execution_count": 7,
   "id": "b24c0b2a",
   "metadata": {},
   "outputs": [],
   "source": [
    "class Query(BaseModel):\n",
    "    value: Union[Match, SQL] = Field(\n",
    "        ...,\n",
    "    )\n",
    "\n",
    "\n",
    "def function_choices():\n",
    "    return [\n",
    "        {\n",
    "            \"name\": \"QUERY\",\n",
    "            \"description\": \"Break down the query either into a MATCH or SQL call\",\n",
    "            \"parameters\": Query.model_json_schema(),\n",
    "        },\n",
    "    ]"
   ]
  },
  {
   "cell_type": "markdown",
   "id": "9f1e05b6",
   "metadata": {},
   "source": [
    "wip"
   ]
  }
 ],
 "metadata": {
  "kernelspec": {
   "display_name": ".venv",
   "language": "python",
   "name": "python3"
  },
  "language_info": {
   "codemirror_mode": {
    "name": "ipython",
    "version": 3
   },
   "file_extension": ".py",
   "mimetype": "text/x-python",
   "name": "python",
   "nbconvert_exporter": "python",
   "pygments_lexer": "ipython3",
   "version": "3.12.9"
  }
 },
 "nbformat": 4,
 "nbformat_minor": 5
}
